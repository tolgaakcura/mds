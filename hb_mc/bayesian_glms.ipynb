{
 "cells": [
  {
   "cell_type": "code",
   "execution_count": 2,
   "metadata": {
    "collapsed": true
   },
   "outputs": [
    {
     "name": "stderr",
     "output_type": "stream",
     "text": [
      "WARNING (theano.configdefaults): g++ not detected ! Theano will be unable to execute optimized C-implementations (for both CPU and GPU) and will default to Python implementations. Performance will be severely degraded. To remove this warning, set Theano flags cxx to an empty string.\n"
     ]
    },
    {
     "data": {
      "text/html": [
       "<div>\n",
       "<table border=\"1\" class=\"dataframe\">\n",
       "  <thead>\n",
       "    <tr style=\"text-align: right;\">\n",
       "      <th></th>\n",
       "      <th>county</th>\n",
       "      <th>log_radon</th>\n",
       "      <th>floor</th>\n",
       "    </tr>\n",
       "  </thead>\n",
       "  <tbody>\n",
       "    <tr>\n",
       "      <th>0</th>\n",
       "      <td>AITKIN</td>\n",
       "      <td>0.832909</td>\n",
       "      <td>1.0</td>\n",
       "    </tr>\n",
       "    <tr>\n",
       "      <th>1</th>\n",
       "      <td>AITKIN</td>\n",
       "      <td>0.832909</td>\n",
       "      <td>0.0</td>\n",
       "    </tr>\n",
       "    <tr>\n",
       "      <th>2</th>\n",
       "      <td>AITKIN</td>\n",
       "      <td>1.098612</td>\n",
       "      <td>0.0</td>\n",
       "    </tr>\n",
       "    <tr>\n",
       "      <th>3</th>\n",
       "      <td>AITKIN</td>\n",
       "      <td>0.095310</td>\n",
       "      <td>0.0</td>\n",
       "    </tr>\n",
       "    <tr>\n",
       "      <th>4</th>\n",
       "      <td>ANOKA</td>\n",
       "      <td>1.163151</td>\n",
       "      <td>0.0</td>\n",
       "    </tr>\n",
       "  </tbody>\n",
       "</table>\n",
       "</div>"
      ],
      "text/plain": [
       "<div>\n",
       "<table border=\"1\" class=\"dataframe\">\n",
       "  <thead>\n",
       "    <tr style=\"text-align: right;\">\n",
       "      <th></th>\n",
       "      <th>county</th>\n",
       "      <th>log_radon</th>\n",
       "      <th>floor</th>\n",
       "    </tr>\n",
       "  </thead>\n",
       "  <tbody>\n",
       "    <tr>\n",
       "      <th>0</th>\n",
       "      <td>AITKIN</td>\n",
       "      <td>0.832909</td>\n",
       "      <td>1.0</td>\n",
       "    </tr>\n",
       "    <tr>\n",
       "      <th>1</th>\n",
       "      <td>AITKIN</td>\n",
       "      <td>0.832909</td>\n",
       "      <td>0.0</td>\n",
       "    </tr>\n",
       "    <tr>\n",
       "      <th>2</th>\n",
       "      <td>AITKIN</td>\n",
       "      <td>1.098612</td>\n",
       "      <td>0.0</td>\n",
       "    </tr>\n",
       "    <tr>\n",
       "      <th>3</th>\n",
       "      <td>AITKIN</td>\n",
       "      <td>0.095310</td>\n",
       "      <td>0.0</td>\n",
       "    </tr>\n",
       "    <tr>\n",
       "      <th>4</th>\n",
       "      <td>ANOKA</td>\n",
       "      <td>1.163151</td>\n",
       "      <td>0.0</td>\n",
       "    </tr>\n",
       "  </tbody>\n",
       "</table>\n",
       "</div>"
      ]
     },
     "execution_count": 2,
     "metadata": {},
     "output_type": "execute_result"
    }
   ],
   "source": [
    "%matplotlib inline\n",
    "import matplotlib.pyplot as plt\n",
    "import numpy as np\n",
    "import pymc3 as pm \n",
    "\n",
    "\n",
    "import pandas as pd\n",
    "\n",
    "path='C:\\\\Users\\\\HP\\\\PycharmProjects\\\\mds\\\\hb_mc\\\\'\n",
    "data = pd.read_csv(path+'radon.csv')\n",
    "\n",
    "county_names = data.county.unique()\n",
    "county_idx = data['county_code'].values\n",
    "n_counties = len(data.county.unique())\n",
    "data[['county', 'log_radon', 'floor']].head()"
   ]
  },
  {
   "cell_type": "code",
   "execution_count": 10,
   "metadata": {},
   "outputs": [
    {
     "name": "stdout",
     "output_type": "stream",
     "text": [
      "Applied interval-transform to eps and added transformed eps_interval_ to model.\n"
     ]
    },
    {
     "name": "stdout",
     "output_type": "stream",
     "text": [
      "Applied interval-transform to eps and added transformed eps_interval_ to model.\n"
     ]
    },
    {
     "name": "stdout",
     "output_type": "stream",
     "text": [
      "Applied interval-transform to eps and added transformed eps_interval_ to model.\n"
     ]
    },
    {
     "name": "stdout",
     "output_type": "stream",
     "text": [
      "Applied interval-transform to eps and added transformed eps_interval_ to model.\n"
     ]
    },
    {
     "name": "stdout",
     "output_type": "stream",
     "text": [
      "Applied interval-transform to eps and added transformed eps_interval_ to model.\n"
     ]
    },
    {
     "name": "stdout",
     "output_type": "stream",
     "text": [
      "Applied interval-transform to eps and added transformed eps_interval_ to model.\n"
     ]
    },
    {
     "name": "stdout",
     "output_type": "stream",
     "text": [
      "Applied interval-transform to eps and added transformed eps_interval_ to model.\n"
     ]
    },
    {
     "name": "stdout",
     "output_type": "stream",
     "text": [
      "Applied interval-transform to eps and added transformed eps_interval_ to model.\n"
     ]
    },
    {
     "name": "stdout",
     "output_type": "stream",
     "text": [
      "Applied interval-transform to eps and added transformed eps_interval_ to model.\n"
     ]
    },
    {
     "name": "stderr",
     "output_type": "stream",
     "text": [
      "\nKeyboardInterrupt\n"
     ]
    }
   ],
   "source": [
    "indiv_traces = {}\n",
    "for county_name in county_names:\n",
    "    # Select subset of data belonging to county\n",
    "    c_data = data.ix[data.county == county_name]\n",
    "    c_log_radon = c_data.log_radon\n",
    "    c_floor_measure = c_data.floor.values\n",
    "    \n",
    "    with pm.Model() as individual_model:\n",
    "        # Intercept prior (variance == sd**2)\n",
    "        a = pm.Normal('alpha', mu=0, sd=100**2)\n",
    "        # Slope prior\n",
    "        b = pm.Normal('beta', mu=0, sd=100**2)\n",
    "    \n",
    "        # Model error prior\n",
    "        eps = pm.Uniform('eps', lower=0, upper=100)\n",
    "    \n",
    "        # Linear model\n",
    "        radon_est = a + b * c_floor_measure\n",
    "    \n",
    "        # Data likelihood\n",
    "        radon_like = pm.Normal('radon_like', mu=radon_est, sd=eps, observed=c_log_radon)\n",
    "\n",
    "        # Inference button (TM)!\n",
    "        step = pm.NUTS()\n",
    "        trace = pm.sample(2000, step=step, progressbar=False)\n",
    "    \n",
    "    # keep trace for later analysis\n",
    "    indiv_traces[county_name] = trace"
   ]
  },
  {
   "cell_type": "code",
   "execution_count": 12,
   "metadata": {},
   "outputs": [
    {
     "data": {
      "text/plain": [
       "{'AITKIN': <MultiTrace: 1 chains, 2000 iterations, 4 variables>,\n 'ANOKA': <MultiTrace: 1 chains, 2000 iterations, 4 variables>,\n 'BECKER': <MultiTrace: 1 chains, 2000 iterations, 4 variables>,\n 'BELTRAMI': <MultiTrace: 1 chains, 2000 iterations, 4 variables>,\n 'BENTON': <MultiTrace: 1 chains, 2000 iterations, 4 variables>,\n 'BIG STONE': <MultiTrace: 1 chains, 2000 iterations, 4 variables>,\n 'BLUE EARTH': <MultiTrace: 1 chains, 2000 iterations, 4 variables>,\n 'BROWN': <MultiTrace: 1 chains, 136 iterations, 4 variables>}"
      ]
     },
     "execution_count": 12,
     "metadata": {},
     "output_type": "execute_result"
    }
   ],
   "source": [
    "indiv_traces"
   ]
  },
  {
   "cell_type": "code",
   "execution_count": 14,
   "metadata": {},
   "outputs": [
    {
     "name": "stdout",
     "output_type": "stream",
     "text": [
      "Applied interval-transform to sigma_alpha and added transformed sigma_alpha_interval_ to model.\nApplied interval-transform to sigma_beta and added transformed sigma_beta_interval_ to model.\nApplied interval-transform to eps and added transformed eps_interval_ to model.\n"
     ]
    }
   ],
   "source": [
    "with pm.Model() as hierarchical_model:\n",
    "    # Hyperpriors for group nodes\n",
    "    mu_a = pm.Normal('mu_alpha', mu=0., sd=100**2)\n",
    "    sigma_a = pm.Uniform('sigma_alpha', lower=0, upper=100)\n",
    "    mu_b = pm.Normal('mu_beta', mu=0., sd=100**2)\n",
    "    sigma_b = pm.Uniform('sigma_beta', lower=0, upper=100)\n",
    "    \n",
    "    # Intercept for each county, distributed around group mean mu_a\n",
    "    # Above we just set mu and sd to a fixed value while here we\n",
    "    # plug in a common group distribution for all a and b (which are\n",
    "    # vectors of length n_counties).\n",
    "    a = pm.Normal('alpha', mu=mu_a, sd=sigma_a, shape=n_counties)\n",
    "    # Intercept for each county, distributed around group mean mu_a\n",
    "    b = pm.Normal('beta', mu=mu_b, sd=sigma_b, shape=n_counties)\n",
    "    \n",
    "    # Model error\n",
    "    eps = pm.Uniform('eps', lower=0, upper=100)\n",
    "    \n",
    "    # Model prediction of radon level\n",
    "    # a[county_idx] translates to a[0, 0, 0, 1, 1, ...],\n",
    "    # we thus link multiple household measures of a county\n",
    "    # to its coefficients.\n",
    "    radon_est = a[county_idx] + b[county_idx] * data.floor.values\n",
    "    \n",
    "    # Data likelihood\n",
    "    radon_like = pm.Normal('radon_like', mu=radon_est, sd=eps, observed=data.log_radon)"
   ]
  },
  {
   "cell_type": "code",
   "execution_count": null,
   "metadata": {},
   "outputs": [],
   "source": [
    "# Inference button (TM)!\n",
    "with hierarchical_model:\n",
    "    # Use ADVI for initialization\n",
    "    mu, sds, elbo = pm.variational.advi(n=100000)\n",
    "    step = pm.NUTS(scaling=hierarchical_model.dict_to_array(sds)**2, \n",
    "                   is_cov=True)\n",
    "    hierarchical_trace = pm.sample(5000, step, start=mu)"
   ]
  },
  {
   "cell_type": "code",
   "execution_count": null,
   "metadata": {},
   "outputs": [],
   "source": [
    "# Plotting the hierarchical model trace -its found values- from 500 iterations onwards (right side plot) \n",
    "# and its accumulated marginal values (left side plot) \n",
    "pm.traceplot(hierarchical_trace[500:]);"
   ]
  },
  {
   "cell_type": "code",
   "execution_count": 1,
   "metadata": {},
   "outputs": [
    {
     "data": {
      "text/plain": [
       "4"
      ]
     },
     "execution_count": 1,
     "metadata": {},
     "output_type": "execute_result"
    }
   ],
   "source": [
    "2+2"
   ]
  },
  {
   "cell_type": "code",
   "execution_count": null,
   "metadata": {},
   "outputs": [],
   "source": [
    ""
   ]
  }
 ],
 "metadata": {
  "kernelspec": {
   "display_name": "Python 2",
   "language": "python",
   "name": "python2"
  },
  "language_info": {
   "codemirror_mode": {
    "name": "ipython",
    "version": 2.0
   },
   "file_extension": ".py",
   "mimetype": "text/x-python",
   "name": "python",
   "nbconvert_exporter": "python",
   "pygments_lexer": "ipython2",
   "version": "2.7.6"
  }
 },
 "nbformat": 4,
 "nbformat_minor": 0
}