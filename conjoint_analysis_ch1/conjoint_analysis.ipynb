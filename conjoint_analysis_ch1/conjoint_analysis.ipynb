{
 "cells": [
  {
   "cell_type": "code",
   "execution_count": 2,
   "metadata": {
    "collapsed": true
   },
   "outputs": [
    {
     "name": "stdout",
     "output_type": "stream",
     "text": [
      "                            OLS Regression Results                            \n==============================================================================\nDep. Variable:                ranking   R-squared:                       0.999\nModel:                            OLS   Adj. R-squared:                  0.989\nMethod:                 Least Squares   F-statistic:                     97.07\nDate:                Sat, 06 Aug 2016   Prob (F-statistic):             0.0794\nTime:                        05:59:05   Log-Likelihood:                 10.568\nNo. Observations:                  16   AIC:                             8.864\nDf Residuals:                       1   BIC:                             20.45\nDf Model:                          14                                         \nCovariance Type:            nonrobust                                         \n===================================================================================================\n                                      coef    std err          t      P>|t|      [95.0% Conf. Int.]\n---------------------------------------------------------------------------------------------------\nIntercept                           8.5000      0.125     68.000      0.009         6.912    10.088\nC(brand, Sum)[S.\"AT&T\"]          1.621e-14      0.217   7.49e-14      1.000        -2.751     2.751\nC(brand, Sum)[S.\"T-Mobile\"]        -0.2500      0.217     -1.155      0.454        -3.001     2.501\nC(brand, Sum)[S.\"US Cellular\"]  -7.327e-15      0.217  -3.38e-14      1.000        -2.751     2.751\nC(startup, Sum)[S.\"$100\"]           0.7500      0.217      3.464      0.179        -2.001     3.501\nC(startup, Sum)[S.\"$200\"]        2.265e-14      0.217   1.05e-13      1.000        -2.751     2.751\nC(startup, Sum)[S.\"$300\"]        -1.51e-14      0.217  -6.97e-14      1.000        -2.751     2.751\nC(monthly, Sum)[S.\"$100\"]           5.0000      0.217     23.094      0.028         2.249     7.751\nC(monthly, Sum)[S.\"$200\"]           2.0000      0.217      9.238      0.069        -0.751     4.751\nC(monthly, Sum)[S.\"$300\"]          -1.2500      0.217     -5.774      0.109        -4.001     1.501\nC(service, Sum)[S.\"4G NO\"]         -1.7500      0.125    -14.000      0.045        -3.338    -0.162\nC(retail, Sum)[S.\"Retail NO\"]       0.2500      0.125      2.000      0.295        -1.338     1.838\nC(apple, Sum)[S.\"Apple NO\"]         0.2500      0.125      2.000      0.295        -1.338     1.838\nC(samsung, Sum)[S.\"Samsung NO\"]    -1.1250      0.125     -9.000      0.070        -2.713     0.463\nC(google, Sum)[S.\"Nexus NO\"]       -0.7500      0.125     -6.000      0.105        -2.338     0.838\n==============================================================================\nOmnibus:                       29.718   Durbin-Watson:                   2.000\nProb(Omnibus):                  0.000   Jarque-Bera (JB):                2.667\nSkew:                          -0.000   Prob(JB):                        0.264\nKurtosis:                       1.000   Cond. No.                         2.00\n==============================================================================\n\nWarnings:\n[1] Standard Errors assume that the covariance matrix of the errors is correctly specified.\n\nAttribute: Mobile Service Provider\n    Importance: 2.38\n    Level Part-Worths\n        \"AT&T\" 1.62092561595e-14 standardized 9.16933995871e-14\n        \"T-Mobile\" -0.25 standardized -1.41421356237\n        \"US Cellular\" -7.32747196253e-15 standardized -4.14504409093e-14\n        \"Verizon\" 0.25 standardized 1.41421356237\n\nAttribute: Start-up Cost\n    Importance: 7.14\n    Level Part-Worths\n        \"$100\" 0.75 standardized 1.41421356237\n        \"$200\" 2.26485497024e-14 standardized 4.27065148762e-14\n        \"$300\" -1.50990331349e-14 standardized -2.84710099175e-14\n        \"$400\" -0.75 standardized -1.41421356237\n\nAttribute: Monthly Cost\n    Importance: 51.19\n    Level Part-Worths\n        \"$100\" 5.0 standardized 1.25367828161\n        \"$200\" 2.0 standardized 0.501471312646\n        \"$300\" -1.25 standardized -0.313419570404\n        \"$400\" -5.75 standardized -1.44173002386\n\nAttribute: Offers 4G Service\n    Importance: 16.67\n    Level Part-Worths\n        \"4G NO\" -1.75 standardized -1.0\n        \"4G YES\" 1.75 standardized 1.0\n\nAttribute: Has Nearby Retail Store\n    Importance: 2.38\n    Level Part-Worths\n        \"Retail NO\" 0.25 standardized 1.0\n        \"Retail YES\" -0.25 standardized -1.0\n\nAttribute: Sells Apple Products\n    Importance: 2.38\n    Level Part-Worths\n        \"Apple NO\" 0.25 standardized 1.0\n        \"Apple YES\" -0.25 standardized -1.0\n\nAttribute: Sells Samsung Products\n    Importance: 10.71\n    Level Part-Worths\n        \"Samsung NO\" -1.125 standardized -1.0\n        \"Samsung YES\" 1.125 standardized 1.0\n\nAttribute: Sells Google/Nexus Products\n    Importance: 7.14\n    Level Part-Worths\n        \"Nexus NO\" -0.75 standardized -1.0\n        \"Nexus YES\" 0.75 standardized 1.0\n"
     ]
    },
    {
     "name": "stderr",
     "output_type": "stream",
     "text": [
      "C:\\Users\\HP\\python-virtual-environments\\env\\lib\\site-packages\\scipy\\stats\\stats.py:1535: UserWarning: kurtosistest only valid for n>=20 ... continuing anyway, n=16\n  \"anyway, n=%i\" % int(n))\n"
     ]
    }
   ],
   "source": [
    "# Traditional Conjoint Analysis (Python)\n",
    "\n",
    "# prepare for Python version 3x features and functions\n",
    "from __future__ import division, print_function\n",
    "\n",
    "# import packages for analysis and modeling\n",
    "import pandas as pd  # data frame operations\n",
    "import numpy as np  # arrays and math functions\n",
    "import statsmodels.api as sm  # statistical models (including regression)\n",
    "import statsmodels.formula.api as smf  # R-like model specification\n",
    "import matplotlib.pyplot as plt\n",
    "%matplotlib inline\n",
    "\n",
    "\n",
    "\n",
    "# read in conjoint survey profiles with respondent ranks\n",
    "conjoint_data_frame = pd.read_csv('mobile_services_ranking.csv')\n",
    "\n",
    "# set up sum contrasts for effects coding as needed for conjoint analysis\n",
    "# using C(effect, Sum) notation within main effects model specification\n",
    "main_effects_model = 'ranking ~ C(brand, Sum) + C(startup, Sum) +  \\\n",
    "    C(monthly, Sum) + C(service, Sum) + C(retail, Sum) + C(apple, Sum) + \\\n",
    "    C(samsung, Sum) + C(google, Sum)'\n",
    "\n",
    "# fit linear regression model using main effects only (no interaction terms)\n",
    "main_effects_model_fit = \\\n",
    "    smf.ols(main_effects_model, data = conjoint_data_frame).fit()\n",
    "print(main_effects_model_fit.summary()) \n",
    "\n",
    "conjoint_attributes = ['brand', 'startup', 'monthly', 'service', \\\n",
    "    'retail', 'apple', 'samsung', 'google']\n",
    "\n",
    "# build part-worth information one attribute at a time\n",
    "level_name = []\n",
    "part_worth = []\n",
    "part_worth_range = []\n",
    "end = 1  # initialize index for coefficient in params\n",
    "for item in conjoint_attributes:\n",
    "    nlevels = len(list(np.unique(conjoint_data_frame[item])))\n",
    "    level_name.append(list(np.unique(conjoint_data_frame[item])))\n",
    "    begin = end \n",
    "    end = begin + nlevels - 1\n",
    "    new_part_worth = list(main_effects_model_fit.params[begin:end])\n",
    "    new_part_worth.append((-1) * sum(new_part_worth))  \n",
    "    part_worth_range.append(max(new_part_worth) - min(new_part_worth))  \n",
    "    part_worth.append(new_part_worth)   \n",
    "    # end set to begin next iteration\n",
    "    \n",
    "# compute attribute relative importance values from ranges\n",
    "attribute_importance = []\n",
    "for item in part_worth_range:\n",
    "    attribute_importance.append(round(100 * (item / sum(part_worth_range)),2))\n",
    "    \n",
    "# user-defined dictionary for printing descriptive attribute names     \n",
    "effect_name_dict = {'brand' : 'Mobile Service Provider', \\\n",
    "    'startup' : 'Start-up Cost', 'monthly' : 'Monthly Cost', \\\n",
    "    'service' : 'Offers 4G Service', 'retail' : 'Has Nearby Retail Store', \\\n",
    "    'apple' : 'Sells Apple Products', 'samsung' : 'Sells Samsung Products', \\\n",
    "    'google' : 'Sells Google/Nexus Products'}  \n",
    " \n",
    "# report conjoint measures to console \n",
    "index = 0  # initialize for use in for-loop\n",
    "for item in conjoint_attributes:\n",
    "    print('\\nAttribute:', effect_name_dict[item])\n",
    "    print('    Importance:', attribute_importance[index])\n",
    "    print('    Level Part-Worths')\n",
    "    for level in range(len(level_name[index])):\n",
    "        print('       ',level_name[index][level], part_worth[index][level], 'standardized', part_worth[index][level]/np.std(part_worth[index]))       \n",
    "    index = index + 1\n",
    "\n",
    "#print the conjoint using a spine graph"
   ]
  },
  {
   "cell_type": "code",
   "execution_count": 80,
   "metadata": {},
   "outputs": [
    {
     "data": {
      "image/png": "[encoded data removed]",
      "text/plain": [
       "<matplotlib.figure.Figure at 0x208ad0f0>"
      ]
     },
     "metadata": {},
     "output_type": "display_data"
    }
   ],
   "source": [
    "fig = plt.figure(figsize=(20,10))\n",
    "ax = fig.add_subplot(1, 1, 1)\n",
    "\n",
    "# Move left y-axis and bottim x-axis to centre, passing through (0,0)\n",
    "ax.spines['left'].set_position('center')\n",
    "ax.spines['left'].set_color('none')\n",
    "ax.spines['bottom'].set_position('center')\n",
    "\n",
    "# Eliminate upper and right axes\n",
    "ax.spines['right'].set_color('none')\n",
    "ax.spines['top'].set_color('none')\n",
    "\n",
    "# Show ticks in the left and lower axes only\n",
    "ax.xaxis.set_ticks_position('bottom')\n",
    "#ax.yaxis.set_ticks_position('left')\n",
    "\n",
    "plt.tick_params(\n",
    "    axis='x',          # changes apply to the x-axis\n",
    "    which='both',      # both major and minor ticks are affected\n",
    "    bottom='off',      # ticks along the bottom edge are off\n",
    "    top='off',         # ticks along the top edge are off\n",
    "    labelbottom='off') # labels along the bottom edge are off\n",
    "\n",
    "plt.gca().yaxis.set_major_locator(plt.NullLocator())\n",
    "axes = plt.gca()\n",
    "xr=70\n",
    "axes.set_xlim([-3,3])\n",
    "axes.set_ylim([-xr,xr])\n",
    "\n",
    "plt.vlines(0,xr,0)\n",
    "plt.vlines(0,-xr,0)\n",
    "\n",
    "plt.vlines(1,xr,0, color='b')\n",
    "plt.vlines(1,-xr,0, color='b')\n",
    "plt.vlines(-1,xr,0, color='r')\n",
    "plt.vlines(-2,xr,0, color='r')\n",
    "plt.vlines(2,xr,0, color='b')\n",
    "plt.vlines(-1,-xr,0, color='r')\n",
    "plt.vlines(-2,-xr,0, color='r')\n",
    "plt.vlines(2,-xr,0, color='b')\n",
    "\n",
    "\n",
    "\n",
    "index = 0  # initialize for use in for-loop\n",
    "xaxis_counter=xr\n",
    "for item in conjoint_attributes:\n",
    "    #ax.annotate(effect_name_dict[item], xy=(xaxis_counter, 0), xytext=(xaxis_counter, 1.5),arrowprops=dict(facecolor='black', shrink=0.05))\n",
    "    plt.text(-3, xaxis_counter, effect_name_dict[item], rotation=0)\n",
    "    xaxis_counter=xaxis_counter-3\n",
    "    for level in range(len(level_name[index])):\n",
    "        #print('       ',level_name[index][level], part_worth[index][level], 'standardized', part_worth[index][level]/np.std(part_worth[index]))       \n",
    "        tt=[level_name[index][level], (part_worth[index][level]/np.std(part_worth[index]))]\n",
    "        plt.text(-2.8,xaxis_counter,r'{0:}, {1:.2f}'.format(*tt))\n",
    "        plt.plot(part_worth[index][level]/np.std(part_worth[index]), xaxis_counter, \"o\", color='b')\n",
    "        #print (part_worth[index][level]/np.std(part_worth[index]))\n",
    "        xaxis_counter=xaxis_counter-3\n",
    "    plt.hlines(xaxis_counter+1, 10, 0)\n",
    "    plt.hlines(xaxis_counter+1, -10, 0)\n",
    "\n",
    "    #plt.vlines(0,xaxis_counter+1,-3, color='b')\n",
    "    xaxis_counter=xaxis_counter-2\n",
    "    index = index + 1"
   ]
  },
  {
   "cell_type": "code",
   "execution_count": 44,
   "metadata": {},
   "outputs": [
    {
     "name": "stdout",
     "output_type": "stream",
     "text": [
      "\"AT&T\"   9.16933995871e-14\n"
     ]
    }
   ],
   "source": [
    "print (level_name[index][level],\" \", part_worth[index][level]/np.std(part_worth[index]))"
   ]
  },
  {
   "cell_type": "code",
   "execution_count": 22,
   "metadata": {},
   "outputs": [
    {
     "data": {
      "text/plain": [
       "DesignMatrix with shape (8L, 9L)\n  Columns:\n    ['Intercept',\n     'C(x1, Sum)[S.-0.97727787987641102]',\n     'C(x1, Sum)[S.-0.15135720829769789]',\n     'C(x1, Sum)[S.0.40015720836722329]',\n     'C(x1, Sum)[S.0.95008841752558937]',\n     'C(x1, Sum)[S.0.9787379841057392]',\n     'C(x1, Sum)[S.1.764052345967664]',\n     'C(x1, Sum)[S.1.8675579901499675]',\n     'x2']\n  Terms:\n    'Intercept' (column 0)\n    'C(x1, Sum)' (columns 1:8)\n    'x2' (column 8)\n  (to view full data, use np.asarray(this_obj))"
      ]
     },
     "execution_count": 22,
     "metadata": {},
     "output_type": "execute_result"
    }
   ],
   "source": [
    "dmatrix(\"C(x1,Sum) + x2\", data)"
   ]
  },
  {
   "cell_type": "code",
   "execution_count": 24,
   "metadata": {},
   "outputs": [
    {
     "data": {
      "text/plain": [
       "DesignMatrix with shape (8L, 3L)\n  Intercept        x1        x2\n          1   1.76405  -0.10322\n          1   0.40016   0.41060\n          1   0.97874   0.14404\n          1   2.24089   1.45427\n          1   1.86756   0.76104\n          1  -0.97728   0.12168\n          1   0.95009   0.44386\n          1  -0.15136   0.33367\n  Terms:\n    'Intercept' (column 0)\n    'x1' (column 1)\n    'x2' (column 2)"
      ]
     },
     "execution_count": 24,
     "metadata": {},
     "output_type": "execute_result"
    }
   ],
   "source": [
    "dmatrix(\"x1 + x2\", data)"
   ]
  },
  {
   "cell_type": "code",
   "execution_count": 26,
   "metadata": {},
   "outputs": [
    {
     "data": {
      "text/plain": [
       "{'a': ['a1', 'a1', 'a2', 'a2', 'a1', 'a1', 'a2', 'a2'],\n 'b': ['b1', 'b2', 'b1', 'b2', 'b1', 'b2', 'b1', 'b2'],\n 'x1': array([ 1.76405235,  0.40015721,  0.97873798,  2.2408932 ,  1.86755799,\n        -0.97727788,  0.95008842, -0.15135721]),\n 'x2': array([-0.10321885,  0.4105985 ,  0.14404357,  1.45427351,  0.76103773,\n         0.12167502,  0.44386323,  0.33367433]),\n 'y': array([ 1.49407907, -0.20515826,  0.3130677 , -0.85409574, -2.55298982,\n         0.6536186 ,  0.8644362 , -0.74216502]),\n 'z column': array([ 2.26975462, -1.45436567,  0.04575852, -0.18718385,  1.53277921,\n         1.46935877,  0.15494743,  0.37816252])}"
      ]
     },
     "execution_count": 26,
     "metadata": {},
     "output_type": "execute_result"
    }
   ],
   "source": [
    "data"
   ]
  },
  {
   "cell_type": "code",
   "execution_count": 36,
   "metadata": {},
   "outputs": [
    {
     "data": {
      "text/plain": [
       "DesignMatrix with shape (3L, 3L)\n  Intercept  C(a, Sum)[S.a1]  C(a, Sum)[S.a2]\n          1                1                0\n          1                0                1\n          1               -1               -1\n  Terms:\n    'Intercept' (column 0)\n    'C(a, Sum)' (columns 1:3)"
      ]
     },
     "execution_count": 36,
     "metadata": {},
     "output_type": "execute_result"
    }
   ],
   "source": [
    "dmatrix(\"C(a, Sum)\", patsy.balanced(a=3))"
   ]
  },
  {
   "cell_type": "code",
   "execution_count": 37,
   "metadata": {},
   "outputs": [
    {
     "data": {
      "text/plain": [
       "{'a': ['a1', 'a2', 'a3']}"
      ]
     },
     "execution_count": 37,
     "metadata": {},
     "output_type": "execute_result"
    }
   ],
   "source": [
    "import patsy\n",
    "patsy.balanced(a=3)"
   ]
  },
  {
   "cell_type": "code",
   "execution_count": 43,
   "metadata": {},
   "outputs": [
    {
     "data": {
      "text/plain": [
       "DesignMatrix with shape (3L, 3L)\n  Intercept  C(a, Sum)[S.a1]  C(a, Sum)[S.a2]\n          1                1                0\n          1                0                1\n          1               -1               -1\n  Terms:\n    'Intercept' (column 0)\n    'C(a, Sum)' (columns 1:3)"
      ]
     },
     "execution_count": 43,
     "metadata": {},
     "output_type": "execute_result"
    }
   ],
   "source": [
    "dmatrix(\"C(a,Sum)\", patsy.balanced(a=3))"
   ]
  },
  {
   "cell_type": "code",
   "execution_count": 61,
   "metadata": {},
   "outputs": [
    {
     "name": "stdout",
     "output_type": "stream",
     "text": [
      "brand\nstartup\nmonthly\nservice\nretail\napple\nsamsung\ngoogle\n"
     ]
    }
   ],
   "source": [
    "for item in conjoint_attributes: print(item)\n",
    "for item in conjoint_attributes:\n",
    "    nlevels = len(list(np.unique(conjoint_data_frame[item])))\n",
    "    level_name.append(list(np.unique(conjoint_data_frame[item])))\n",
    "    begin = end \n",
    "    end = begin + nlevels - 1\n",
    "    new_part_worth = list(main_effects_model_fit.params[begin:end])\n",
    "    new_part_worth.append((-1) * sum(new_part_worth))  \n",
    "    part_worth_range.append(max(new_part_worth) - min(new_part_worth))  \n",
    "    part_worth.append(new_part_worth)"
   ]
  },
  {
   "cell_type": "code",
   "execution_count": 72,
   "metadata": {},
   "outputs": [
    {
     "data": {
      "text/plain": [
       "[[1.6209256159527285e-14,\n  -0.2500000000000091,\n  -7.3274719625260332e-15,\n  0.25000000000000022],\n [0.74999999999999556,\n  2.2648549702353193e-14,\n  -1.5099033134902129e-14,\n  -0.75000000000000311],\n [4.9999999999999911,\n  2.0000000000000075,\n  -1.2500000000000002,\n  -5.7499999999999982],\n [-1.749999999999998, 1.749999999999998],\n [0.25000000000000033, -0.25000000000000033],\n [0.25000000000000111, -0.25000000000000111],\n [-1.1249999999999993, 1.1249999999999993],\n [-0.749999999999999, 0.749999999999999]]"
      ]
     },
     "execution_count": 72,
     "metadata": {},
     "output_type": "execute_result"
    }
   ],
   "source": [
    "main_effects_model_fit.params\n",
    "list(np.unique(conjoint_data_frame['brand']))\n",
    "new_part_worth\n",
    "part_worth_range\n",
    "part_worth"
   ]
  },
  {
   "cell_type": "code",
   "execution_count": 66,
   "metadata": {},
   "outputs": [
    {
     "data": {
      "text/plain": [
       "Intercept                          8.500000e+00\nC(brand, Sum)[S.\"AT&T\"]            1.620926e-14\nC(brand, Sum)[S.\"T-Mobile\"]       -2.500000e-01\nC(brand, Sum)[S.\"US Cellular\"]    -7.327472e-15\nC(startup, Sum)[S.\"$100\"]          7.500000e-01\nC(startup, Sum)[S.\"$200\"]          2.264855e-14\nC(startup, Sum)[S.\"$300\"]         -1.509903e-14\nC(monthly, Sum)[S.\"$100\"]          5.000000e+00\nC(monthly, Sum)[S.\"$200\"]          2.000000e+00\nC(monthly, Sum)[S.\"$300\"]         -1.250000e+00\nC(service, Sum)[S.\"4G NO\"]        -1.750000e+00\nC(retail, Sum)[S.\"Retail NO\"]      2.500000e-01\nC(apple, Sum)[S.\"Apple NO\"]        2.500000e-01\nC(samsung, Sum)[S.\"Samsung NO\"]   -1.125000e+00\nC(google, Sum)[S.\"Nexus NO\"]      -7.500000e-01\ndtype: float64"
      ]
     },
     "execution_count": 66,
     "metadata": {},
     "output_type": "execute_result"
    }
   ],
   "source": [
    "main_effects_model_fit.params"
   ]
  },
  {
   "cell_type": "code",
   "execution_count": 71,
   "metadata": {},
   "outputs": [
    {
     "data": {
      "text/plain": [
       "array(['\"AT&T\"', '\"T-Mobile\"', '\"US Cellular\"', '\"Verizon\"'], dtype=object)"
      ]
     },
     "execution_count": 71,
     "metadata": {},
     "output_type": "execute_result"
    }
   ],
   "source": [
    "np.unique(conjoint_data_frame['brand'])"
   ]
  },
  {
   "cell_type": "code",
   "execution_count": 76,
   "metadata": {},
   "outputs": [
    {
     "name": "stdout",
     "output_type": "stream",
     "text": [
      "0.5\n1.5\n10.75\n3.5\n0.5\n0.5\n2.25\n1.5\n"
     ]
    }
   ],
   "source": [
    "attribute_importance=[]\n",
    "for item in part_worth_range:\n",
    "    print(item)\n",
    "    attribute_importance.append(round(100 * (item / sum(part_worth_range)),2))"
   ]
  },
  {
   "cell_type": "code",
   "execution_count": 80,
   "metadata": {},
   "outputs": [
    {
     "data": {
      "text/plain": [
       "[0.50000000000000933,\n 1.4999999999999987,\n 10.749999999999989,\n 3.499999999999996,\n 0.50000000000000067,\n 0.50000000000000222,\n 2.2499999999999987,\n 1.499999999999998]"
      ]
     },
     "execution_count": 80,
     "metadata": {},
     "output_type": "execute_result"
    }
   ],
   "source": [
    "attribute_importance\n",
    "sum(part_worth_range)\n",
    "part_worth_range"
   ]
  },
  {
   "cell_type": "code",
   "execution_count": null,
   "metadata": {},
   "outputs": [],
   "source": [
    ""
   ]
  }
 ],
 "metadata": {
  "kernelspec": {
   "display_name": "Python 2",
   "language": "python",
   "name": "python2"
  },
  "language_info": {
   "codemirror_mode": {
    "name": "ipython",
    "version": 2.0
   },
   "file_extension": ".py",
   "mimetype": "text/x-python",
   "name": "python",
   "nbconvert_exporter": "python",
   "pygments_lexer": "ipython2",
   "version": "2.7.6"
  }
 },
 "nbformat": 4,
 "nbformat_minor": 0
}