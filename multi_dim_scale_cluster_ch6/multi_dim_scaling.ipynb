{
 "cells": [
  {
   "cell_type": "code",
   "execution_count": 7,
   "metadata": {
    "collapsed": true
   },
   "outputs": [
    {
     "name": "stdout",
     "output_type": "stream",
     "text": [
      "[[ 0  5  8  3  7]\n [ 5  0  2  4  6]\n [ 8  2  0  9  1]\n [ 3  4  9  0 10]\n [ 7  6  1 10  0]]\n<type 'numpy.ndarray'>\n"
     ]
    }
   ],
   "source": [
    "# Product Positioning of Movies (Python)\n",
    "\n",
    "# prepare for Python version 3x features and functions\n",
    "from __future__ import division, print_function\n",
    "\n",
    "# import packages for multivariate analysis\n",
    "import numpy as np  # arrays and numerical processing\n",
    "import scipy\n",
    "import matplotlib.pyplot as plt  # 2D plotting\n",
    "%matplotlib inline\n",
    "\n",
    "# alternative distance metrics for multidimensional scaling\n",
    "from sklearn.metrics import euclidean_distances \n",
    "from sklearn.metrics.pairwise import linear_kernel as cosine_distances\n",
    "from sklearn.metrics.pairwise import manhattan_distances as manhattan_distances\n",
    "\n",
    "from sklearn import manifold  # multidimensional scaling\n",
    "\n",
    "# These are the original data from one respondent\n",
    "# Pairs of movies are judged on their similarity\n",
    "# Smaller numbers are more similar to one another\n",
    "# Zero on the diagonal means no difference\n",
    "#  0  5  8  3  7     Bonnie and Clyde    \n",
    "#  5  0  2  4  6     The Conversation\n",
    "#  8  2  0  9  1     The French Connection\n",
    "#  3  4  9  0 10     Hoosiers\n",
    "#  7  6  1 10  0     Unforgiven\n",
    "# define a numpy array for these data\n",
    "distance_matrix = np.array([[0,  5,  8,  3,  7],\n",
    "    [5,  0,  2,  4,  6],\n",
    "    [8,  2,  0,  9,  1],\n",
    "    [3,  4,  9,  0, 10],\n",
    "    [7,  6,  1, 10,  0]])\n",
    "    \n",
    "# check to see that the distance structure has been entered correctly\n",
    "print(distance_matrix)    \n",
    "print(type(distance_matrix))"
   ]
  },
  {
   "cell_type": "code",
   "execution_count": 5,
   "metadata": {},
   "outputs": [],
   "source": [
    "# apply the multidimensional scaling algorithm and plot the map\n",
    "mds_method = manifold.MDS(n_components = 2, random_state = 9999,\\\n",
    "    dissimilarity = 'precomputed')\n",
    "mds_fit = mds_method.fit(distance_matrix)  \n",
    "mds_coordinates = mds_method.fit_transform(distance_matrix)                                                                                                                    \n",
    "movie_label = ['Bonnie and Clyde', 'The Conversation',\n",
    "    'The French Connection', 'Hoosiers', 'Unforgiven']"
   ]
  },
  {
   "cell_type": "code",
   "execution_count": 8,
   "metadata": {},
   "outputs": [
    {
     "data": {
      "image/png": "[encoded data removed]",
      "text/plain": [
       "<matplotlib.figure.Figure at 0x1c4ef080>"
      ]
     },
     "metadata": {},
     "output_type": "display_data"
    },
    {
     "data": {
      "text/plain": [
       "<matplotlib.figure.Figure at 0x1c52e208>"
      ]
     },
     "execution_count": 0,
     "metadata": {},
     "output_type": "execute_result"
    }
   ],
   "source": [
    "# plot mds solution in two dimensions using movie labels\n",
    "# defined by multidimensional scaling\n",
    "plt.figure()\n",
    "plt.scatter(mds_coordinates[:,0],mds_coordinates[:,1],\\\n",
    "    facecolors = 'none', edgecolors = 'none')  # points in white (invisible)\n",
    "labels = movie_label\n",
    "for label, x, y in zip(labels, mds_coordinates[:,0], mds_coordinates[:,1]):\n",
    "    plt.annotate(label, (x,y), xycoords = 'data')\n",
    "plt.xlabel('First Dimension')\n",
    "plt.ylabel('Second Dimension')    \n",
    "plt.show()"
   ]
  },
  {
   "cell_type": "code",
   "execution_count": 17,
   "metadata": {},
   "outputs": [
    {
     "data": {
      "text/plain": [
       "<matplotlib.figure.Figure at 0x1c584d68>"
      ]
     },
     "execution_count": 0,
     "metadata": {},
     "output_type": "execute_result"
    }
   ],
   "source": [
    "plt.savefig('C:\\\\Users\\\\HP\\\\PycharmProjects\\\\mds\\\\multi_dim_scale_cluster_ch6\\\\fig_positioning_products_mds_movies.pdf', \n",
    "    bbox_inches = 'tight', dpi=None, facecolor='w', edgecolor='b', \n",
    "    orientation='landscape', papertype=None, format=None, \n",
    "    transparent=True, pad_inches=0.25, frameon=None)"
   ]
  },
  {
   "cell_type": "code",
   "execution_count": 16,
   "metadata": {},
   "outputs": [
    {
     "data": {
      "text/plain": [
       "<matplotlib.figure.Figure at 0x1bf4a358>"
      ]
     },
     "execution_count": 16,
     "metadata": {},
     "output_type": "execute_result"
    },
    {
     "data": {
      "text/plain": [
       "<matplotlib.figure.Figure at 0x1bf4a358>"
      ]
     },
     "execution_count": 0,
     "metadata": {},
     "output_type": "execute_result"
    }
   ],
   "source": [
    "plt.figure()"
   ]
  },
  {
   "cell_type": "code",
   "execution_count": null,
   "metadata": {},
   "outputs": [],
   "source": [
    ""
   ]
  }
 ],
 "metadata": {
  "kernelspec": {
   "display_name": "Python 2",
   "language": "python",
   "name": "python2"
  },
  "language_info": {
   "codemirror_mode": {
    "name": "ipython",
    "version": 2.0
   },
   "file_extension": ".py",
   "mimetype": "text/x-python",
   "name": "python",
   "nbconvert_exporter": "python",
   "pygments_lexer": "ipython2",
   "version": "2.7.6"
  }
 },
 "nbformat": 4,
 "nbformat_minor": 0
}